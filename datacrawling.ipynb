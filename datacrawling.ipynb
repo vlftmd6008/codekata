{
 "cells": [
  {
   "cell_type": "code",
   "execution_count": 2,
   "id": "f7a99bc5",
   "metadata": {},
   "outputs": [
    {
     "name": "stderr",
     "output_type": "stream",
     "text": [
      "/Users/t2023-m0051/Library/Python/3.9/lib/python/site-packages/urllib3/__init__.py:35: NotOpenSSLWarning: urllib3 v2 only supports OpenSSL 1.1.1+, currently the 'ssl' module is compiled with 'LibreSSL 2.8.3'. See: https://github.com/urllib3/urllib3/issues/3020\n",
      "  warnings.warn(\n"
     ]
    },
    {
     "name": "stdout",
     "output_type": "stream",
     "text": [
      "BeautifulSoup 객체 생성 완료!\n"
     ]
    }
   ],
   "source": [
    "import requests\n",
    "from bs4 import BeautifulSoup\n",
    "\n",
    "url = \"https://www.naver.com\" # 실제 크롤링할 웹사이트 URL로 변경하세요.\n",
    "response = requests.get(url)\n",
    "\n",
    "# HTML 내용을 'html.parser'를 이용해 BeautifulSoup 객체로 변환합니다.\n",
    "# 'lxml' 파서가 더 빠르고 강력하지만, 설치가 필요하므로 여기서는 기본 파서를 사용합니다.\n",
    "soup = BeautifulSoup(response.text, 'html.parser')\n",
    "\n",
    "print(\"BeautifulSoup 객체 생성 완료!\")"
   ]
  },
  {
   "cell_type": "code",
   "execution_count": 5,
   "id": "c6137326",
   "metadata": {},
   "outputs": [
    {
     "name": "stdout",
     "output_type": "stream",
     "text": [
      "\n",
      "CSS 선택자로 찾은 요약: 날씨가 맑고 좋네요.\n",
      "CSS 선택자로 찾은 제목: 오늘의 뉴스\n",
      "CSS 선택자로 찾은 모든 링크 개수: 2\n",
      "CSS 선택자로 찾은 중요 링크: 두 번째 뉴스\n",
      "Body 안의 단락: 날씨가 맑고 좋네요.\n"
     ]
    }
   ],
   "source": [
    "from bs4 import BeautifulSoup\n",
    "\n",
    "html_doc = \"\"\"\n",
    "<html>\n",
    "<body>\n",
    "    <h1 id=\"main-title\">오늘의 뉴스</h1>\n",
    "    <p class=\"summary\">날씨가 맑고 좋네요.</p>\n",
    "    <a href=\"/news/1\">첫 번째 뉴스</a>\n",
    "    <a href=\"/news/2\" class=\"important\">두 번째 뉴스</a>\n",
    "    <img src=\"sunny.jpg\" alt=\"맑은 날씨\">\n",
    "</body>\n",
    "</html>\n",
    "\"\"\"\n",
    "soup = BeautifulSoup(html_doc, 'html.parser')\n",
    "\n",
    "# # <h1> 태그 하나 찾기\n",
    "# title_tag = soup.find('h1')\n",
    "# print(f\"찾은 h1 태그: {title_tag}\")\n",
    "# print(f\"h1 태그의 텍스트: {title_tag.get_text()}\") # 태그 안의 텍스트만 가져오기\n",
    "\n",
    "# # 모든 <a> (링크) 태그 찾기\n",
    "# all_links = soup.find_all('a')\n",
    "# print(f\"\\n모든 링크 태그: {all_links}\")\n",
    "# print(f\"총 링크 개수: {len(all_links)}\")\n",
    "\n",
    "# # 첫 번째 <a> 태그의 'href' 속성 값 가져오기\n",
    "# if all_links:\n",
    "#     first_link = all_links[0]\n",
    "#     print(f\"첫 번째 링크의 텍스트: {first_link.get_text()}\")\n",
    "#     print(f\"첫 번째 링크의 URL (href 속성): {first_link['href']}\") # 속성은 딕셔너리처럼 접근\n",
    "\n",
    "\n",
    "\n",
    "\n",
    "\n",
    "# # id가 'main-title'인 <h1> 태그 찾기\n",
    "# main_title_by_id = soup.find('h1', id='main-title')\n",
    "# print(f\"\\nID로 찾은 제목: {main_title_by_id.get_text()}\")\n",
    "\n",
    "# # class가 'summary'인 <p> 태그 찾기\n",
    "# summary_paragraph = soup.find('p', class_='summary')\n",
    "# print(f\"Class로 찾은 요약: {summary_paragraph.get_text()}\")\n",
    "\n",
    "# # class가 'important'인 모든 <a> 태그 찾기\n",
    "# important_links = soup.find_all('a', class_='important')\n",
    "# for link in important_links:\n",
    "#     print(f\"중요 링크: {link.get_text()} ({link['href']})\")\n",
    "\n",
    "\n",
    "\n",
    "\n",
    "\n",
    "\n",
    "# class가 'summary'인 <p> 태그 찾기 (select_one 사용)\n",
    "summary_by_css = soup.select_one('p.summary')\n",
    "print(f\"\\nCSS 선택자로 찾은 요약: {summary_by_css.get_text()}\")\n",
    "\n",
    "# ID가 'main-title'인 <h1> 태그 찾기 (select_one 사용)\n",
    "title_by_css = soup.select_one('#main-title')\n",
    "print(f\"CSS 선택자로 찾은 제목: {title_by_css.get_text()}\")\n",
    "\n",
    "# 모든 <a> 태그 찾기 (select 사용)\n",
    "all_links_by_css = soup.select('a')\n",
    "print(f\"CSS 선택자로 찾은 모든 링크 개수: {len(all_links_by_css)}\")\n",
    "\n",
    "# class가 'important'인 <a> 태그 모두 찾기\n",
    "important_links_by_css = soup.select('a.important')\n",
    "for link in important_links_by_css:\n",
    "    print(f\"CSS 선택자로 찾은 중요 링크: {link.get_text()}\")\n",
    "\n",
    "# 'body' 태그 안에 있는 모든 'p' 태그 찾기\n",
    "body_paragraphs = soup.select('body p')\n",
    "for p in body_paragraphs:\n",
    "    print(f\"Body 안의 단락: {p.get_text()}\")"
   ]
  },
  {
   "cell_type": "code",
   "execution_count": null,
   "id": "a1200441",
   "metadata": {},
   "outputs": [],
   "source": []
  }
 ],
 "metadata": {
  "kernelspec": {
   "display_name": "3.12.3",
   "language": "python",
   "name": "python3"
  },
  "language_info": {
   "codemirror_mode": {
    "name": "ipython",
    "version": 3
   },
   "file_extension": ".py",
   "mimetype": "text/x-python",
   "name": "python",
   "nbconvert_exporter": "python",
   "pygments_lexer": "ipython3",
   "version": "3.12.3"
  }
 },
 "nbformat": 4,
 "nbformat_minor": 5
}
