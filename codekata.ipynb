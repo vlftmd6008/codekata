{
 "cells": [
  {
   "cell_type": "code",
   "execution_count": 1,
   "id": "6c3da305",
   "metadata": {},
   "outputs": [
    {
     "name": "stdout",
     "output_type": "stream",
     "text": [
      "Hello baaaaadaa\n"
     ]
    }
   ],
   "source": [
    "print(\"Hello baaaaadaa\")"
   ]
  },
  {
   "cell_type": "code",
   "execution_count": null,
   "id": "7850a1f9",
   "metadata": {},
   "outputs": [
    {
     "name": "stdout",
     "output_type": "stream",
     "text": [
      "im tired. but i got things have to do tonight.\n"
     ]
    }
   ],
   "source": [
    "print(\"im tired. but i got things have to do tonight.\")"
   ]
  },
  {
   "cell_type": "code",
   "execution_count": 3,
   "id": "2c7c7432",
   "metadata": {},
   "outputs": [
    {
     "data": {
      "text/plain": [
       "[10, 10, 10, 20, 20, 100, 100]"
      ]
     },
     "execution_count": 3,
     "metadata": {},
     "output_type": "execute_result"
    }
   ],
   "source": [
    "# 53\n",
    "def solution(k, score):\n",
    "    answer = []\n",
    "    gh = []\n",
    "    for idx, s in enumerate(score):\n",
    "        if idx+1 <= k:\n",
    "            gh.append(s)\n",
    "        elif gh[-1] < s:\n",
    "            gh[-1] = s\n",
    "        gh = sorted(gh, reverse = True)\n",
    "        answer.append(gh[-1])\n",
    "    return answer\n",
    "\n",
    "solution(3, [10, 100, 20, 150, 1, 100, 200])"
   ]
  },
  {
   "cell_type": "code",
   "execution_count": null,
   "id": "7b5ceb15",
   "metadata": {},
   "outputs": [
    {
     "ename": "",
     "evalue": "",
     "output_type": "error",
     "traceback": [
      "\u001b[1;31mRunning cells with '3.12.3 (Python 3.12.3)' requires the ipykernel package.\n",
      "\u001b[1;31m<a href='command:jupyter.createPythonEnvAndSelectController'>Create a Python Environment</a> with the required packages."
     ]
    }
   ],
   "source": [
    "# 54-1\n",
    "def solution(a, b):\n",
    "    n = 0\n",
    "    for i in range(1, a):\n",
    "        if i == 2:\n",
    "            n += 29\n",
    "        elif i <= 7:\n",
    "            if i % 2 == 0:\n",
    "                n += 30\n",
    "            else:\n",
    "                n += 31\n",
    "        else:\n",
    "            if i % 2 == 0:\n",
    "                n += 31\n",
    "            else:\n",
    "                n += 30\n",
    "    n += b\n",
    "    dl = ['THU','FRI','SAT','SUN','MON','TUE','WED']\n",
    "    return dl[(n % 7)]\n",
    "\n",
    "solution(5, 24)"
   ]
  },
  {
   "cell_type": "code",
   "execution_count": 5,
   "id": "94d71938",
   "metadata": {},
   "outputs": [
    {
     "data": {
      "text/plain": [
       "'TUE'"
      ]
     },
     "execution_count": 5,
     "metadata": {},
     "output_type": "execute_result"
    }
   ],
   "source": [
    "# 54-2\n",
    "def solution(a, b):\n",
    "    days = [31, 29, 31, 30, 31, 30, 31, 31, 30, 31, 30, 31]\n",
    "    total_days = sum(days[:a-1]) + b\n",
    "    dl = ['THU','FRI','SAT','SUN','MON','TUE','WED']\n",
    "    return dl[total_days % 7]\n",
    "\n",
    "solution(5, 24)"
   ]
  }
 ],
 "metadata": {
  "kernelspec": {
   "display_name": "3.12.3",
   "language": "python",
   "name": "python3"
  },
  "language_info": {
   "codemirror_mode": {
    "name": "ipython",
    "version": 3
   },
   "file_extension": ".py",
   "mimetype": "text/x-python",
   "name": "python",
   "nbconvert_exporter": "python",
   "pygments_lexer": "ipython3",
   "version": "3.12.3"
  }
 },
 "nbformat": 4,
 "nbformat_minor": 5
}
